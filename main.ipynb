{
 "cells": [
  {
   "cell_type": "code",
   "execution_count": 5,
   "id": "d10722ca-daad-44e0-aba1-aae4216fdd51",
   "metadata": {},
   "outputs": [],
   "source": [
    "import json\n",
    "from pathlib import Path\n",
    "\n",
    "from datatypes import converter, JobPosting\n",
    "from util import get_html, fetch_job_pages, structure_job_postings, job_postings_to_df, plot_salary_ranges"
   ]
  },
  {
   "cell_type": "code",
   "execution_count": 6,
   "id": "ac149888-814b-4159-8f75-acf6876eba02",
   "metadata": {
    "scrolled": true
   },
   "outputs": [],
   "source": [
    "ABCELLERA_CAREERS_URL = \"https://abcellera.com/careers-openings/\"\n",
    "USER_SALARY = 80000\n",
    "JOB_POSTINGS_PATH = Path(\"job_postings.json\")\n",
    "\n",
    "if not JOB_POSTINGS_PATH.exists():\n",
    "    careers_page = get_html(ABCELLERA_CAREERS_URL)\n",
    "    links = careers_page.find_all(\"a\")\n",
    "    job_page_links = [\n",
    "        f\"{url}{link.get('href')}\"\n",
    "        for link in links\n",
    "        if link.string and \"View position\" in link.string\n",
    "    ]\n",
    "    job_pages = fetch_job_pages(job_page_links)\n",
    "    job_postings = structure_job_postings(job_pages)\n",
    "    with open(\"job_postings.json\", \"w\") as fh:\n",
    "        json.dump(converter.unstructure(job_postings), fh)\n",
    "else:\n",
    "    with open(JOB_POSTINGS_PATH) as fh:\n",
    "        job_postings = converter.structure(json.load(fh), list[JobPosting])\n",
    "\n",
    "job_postings_df = job_postings_to_df(job_postings)\n",
    "\n",
    "fig = plot_salary_ranges(job_postings_df, salary_to_benchmark_against=USER_SALARY)\n",
    "fig.write_html(\"abcellera_salaries.html\")\n",
    "fig.write_image(\"abcellera_salaries.png\", width=2000, height=1000)"
   ]
  },
  {
   "cell_type": "code",
   "execution_count": null,
   "id": "7ac47bae",
   "metadata": {},
   "outputs": [],
   "source": []
  }
 ],
 "metadata": {
  "kernelspec": {
   "display_name": "Python 3 (ipykernel)",
   "language": "python",
   "name": "python3"
  },
  "language_info": {
   "codemirror_mode": {
    "name": "ipython",
    "version": 3
   },
   "file_extension": ".py",
   "mimetype": "text/x-python",
   "name": "python",
   "nbconvert_exporter": "python",
   "pygments_lexer": "ipython3",
   "version": "3.10.13"
  }
 },
 "nbformat": 4,
 "nbformat_minor": 5
}
